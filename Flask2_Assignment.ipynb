{
 "cells": [
  {
   "attachments": {},
   "cell_type": "markdown",
   "metadata": {},
   "source": [
    "Q1. Explain GET and POST methods."
   ]
  },
  {
   "attachments": {},
   "cell_type": "markdown",
   "metadata": {},
   "source": [
    "GET Method:\n",
    "1. The GET method is used to retrieve data from the server.\n",
    "2. When a client sends a GET request, it appends the data to the URL in the form of query parameters.\n",
    "3. These parameters are visible in the URL, making it less secure for sensitive information.\n",
    "4. The GET method is idempotent, meaning that making the same GET request multiple times should not have any side effects."
   ]
  },
  {
   "attachments": {},
   "cell_type": "markdown",
   "metadata": {},
   "source": [
    "POST Method:\n",
    "\n",
    "1. The POST method is used to send data to the server to create or update resources.\n",
    "2. When a client sends a POST request, the data is sent in the body of the request, rather than in the URL.\n",
    "3. The data sent with a POST request is not visible in the URL, making it more secure for sensitive information.\n",
    "4. The POST method is not idempotent, meaning that making the same POST request multiple times may have different effects each time."
   ]
  },
  {
   "attachments": {},
   "cell_type": "markdown",
   "metadata": {},
   "source": [
    "Q2. Why is request used in Flask?"
   ]
  },
  {
   "attachments": {},
   "cell_type": "markdown",
   "metadata": {},
   "source": [
    "The request object is used in Flask:\n",
    "\n",
    "1. Accessing form data: When a client submits an HTML form, the data entered into the form fields is sent as part of the request. The request object allows Flask to extract this data, making it easy to retrieve form values and process them in the Flask application.\n",
    "\n",
    "2. Query parameters: Query parameters are additional data sent as part of the URL, typically used in GET requests. The request object allows Flask to access these parameters, making it possible to retrieve information from the URL, such as search queries or pagination parameters.\n",
    "\n",
    "3. File uploads: The request object provides methods to handle file uploads. It allows Flask to retrieve files uploaded by the client, store them temporarily, and process them as needed within the application.\n",
    "\n",
    "3. Accessing headers: HTTP headers contain additional information about the request, such as content type, user-agent, and authorization details. The request object enables Flask to access and inspect these headers, enabling the application to make decisions or perform actions based on the information contained in them.\n",
    "\n",
    "4. HTTP methods: The request object provides information about the HTTP method used in the request (e.g., GET, POST, PUT, DELETE). This allows the Flask application to differentiate between different types of requests and perform different actions based on the method."
   ]
  },
  {
   "attachments": {},
   "cell_type": "markdown",
   "metadata": {},
   "source": [
    "Q3. Why is redirect() used in Flask?"
   ]
  },
  {
   "attachments": {},
   "cell_type": "markdown",
   "metadata": {},
   "source": [
    "The primary purpose of using redirect() is to provide a smooth and seamless navigation experience for the users. When a user accesses a particular route, you may want to redirect them to another route or a different website. Some common use cases for using redirect() include:\n",
    "1. Route redirection: You can redirect users to a different route within your Flask application. For example, after a successful form submission or authentication, you may want to redirect the user to a different page to display a success message or present them with a different set of options.\n",
    "\n",
    "2. External URL redirection: You can also use redirect() to redirect users to an external website. For instance, if you have a link on your website that points to an external resource, such as a documentation page or an external service, you can use redirect() to send the user to that URL."
   ]
  },
  {
   "attachments": {},
   "cell_type": "markdown",
   "metadata": {},
   "source": [
    "For Example:"
   ]
  },
  {
   "cell_type": "code",
   "execution_count": null,
   "metadata": {},
   "outputs": [],
   "source": [
    "from flask import Flask, redirect, url_for\n",
    "\n",
    "app = Flask(__name__)\n",
    "\n",
    "@app.route('/')\n",
    "def index():\n",
    "    # Redirect to the 'hello' endpoint\n",
    "    return redirect(url_for('hello'))\n",
    "\n",
    "@app.route('/hello')\n",
    "def hello():\n",
    "    return 'Hello, World!'\n",
    "\n",
    "if __name__ == '__main__':\n",
    "    app.run()"
   ]
  },
  {
   "attachments": {},
   "cell_type": "markdown",
   "metadata": {},
   "source": [
    "Q4. What are templates in Flask? Why is the render_template() function used?"
   ]
  },
  {
   "attachments": {},
   "cell_type": "markdown",
   "metadata": {},
   "source": [
    "\n",
    "In Flask, templates are files written in a template language, usually using HTML with placeholders and control structures, that allow you to dynamically generate web pages. Flask uses the Jinja template engine as its default template engine."
   ]
  },
  {
   "attachments": {},
   "cell_type": "markdown",
   "metadata": {},
   "source": [
    "The render_template() function is a built-in function in Flask that is used to render templates. It takes the name of the template file as an argument and returns the rendered template as a response to the client's request. The function searches for the template file in the templates folder by default."
   ]
  },
  {
   "attachments": {},
   "cell_type": "markdown",
   "metadata": {},
   "source": [
    "For example : "
   ]
  },
  {
   "cell_type": "code",
   "execution_count": null,
   "metadata": {},
   "outputs": [],
   "source": [
    "from flask import Flask, render_template\n",
    "\n",
    "app = Flask(__name__)\n",
    "\n",
    "@app.route('/')\n",
    "def index():\n",
    "    return render_template('index.html')\n",
    "\n",
    "if __name__ == '__main__':\n",
    "    app.run()"
   ]
  },
  {
   "attachments": {},
   "cell_type": "markdown",
   "metadata": {},
   "source": [
    "Q5. Create a simple API. Use Postman to test it. Attach the screenshot of the output in the Jupyter Notebook."
   ]
  },
  {
   "attachments": {},
   "cell_type": "markdown",
   "metadata": {},
   "source": [
    "This complete API with python and html files : https://github.com/BHARATH970438/RasultChecker_API"
   ]
  },
  {
   "attachments": {},
   "cell_type": "markdown",
   "metadata": {},
   "source": [
    "The below API convert to json format to test in Postman."
   ]
  },
  {
   "attachments": {},
   "cell_type": "markdown",
   "metadata": {},
   "source": [
    "Testing screenshort : https://drive.google.com/file/d/1pSe4D8nnPr7KwmZQaI2t9ir_oM_z4tbX/view?usp=sharing"
   ]
  },
  {
   "cell_type": "code",
   "execution_count": null,
   "metadata": {},
   "outputs": [],
   "source": [
    "from flask import Flask,redirect,render_template,url_for,request,jsonify,json\n",
    "\n",
    "app = Flask(__name__)\n",
    "\n",
    "@app.route('/')\n",
    "def Home():\n",
    "    return render_template('index.html')\n",
    "\n",
    "@app.route('/report/<float:marks>')\n",
    "def report(marks):\n",
    "    if marks >= 35 :\n",
    "        return render_template('pass.html',result = marks)\n",
    "    else:\n",
    "        return render_template('fail.html',result = marks)\n",
    "\n",
    "@app.route('/submit',methods=['POST'])\n",
    "def result():\n",
    "    if request.method == 'POST':\n",
    "        maths = float(request.json['maths'])\n",
    "        physics = float(request.json['physics'])\n",
    "        chemistry = float(request.json['chemistry'])\n",
    "        biology = float(request.json['biology'])\n",
    "        english = float(request.json['english'])\n",
    "        average = (maths + physics + chemistry + biology + english)/5\n",
    "        return jsonify(average)\n",
    "        #return redirect(url_for('report',marks = average))\n",
    "\n",
    "\n",
    "if __name__ == \"__main__\":\n",
    "    app.run(debug=True)"
   ]
  }
 ],
 "metadata": {
  "kernelspec": {
   "display_name": "Python 3",
   "language": "python",
   "name": "python3"
  },
  "language_info": {
   "codemirror_mode": {
    "name": "ipython",
    "version": 3
   },
   "file_extension": ".py",
   "mimetype": "text/x-python",
   "name": "python",
   "nbconvert_exporter": "python",
   "pygments_lexer": "ipython3",
   "version": "3.11.4"
  },
  "orig_nbformat": 4
 },
 "nbformat": 4,
 "nbformat_minor": 2
}
